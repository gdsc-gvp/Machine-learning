{
  "cells": [
    {
      "cell_type": "code",
      "execution_count": 1,
      "metadata": {
        "colab": {
          "base_uri": "https://localhost:8080/"
        },
        "id": "nBanfmKgVZV9",
        "outputId": "f96cbd34-f934-4b8a-9d42-3fe7ba3cacc5"
      },
      "outputs": [
        {
          "output_type": "stream",
          "name": "stdout",
          "text": [
            "Looking in indexes: https://pypi.org/simple, https://us-python.pkg.dev/colab-wheels/public/simple/\n",
            "Collecting docx2txt\n",
            "  Downloading docx2txt-0.8.tar.gz (2.8 kB)\n",
            "Building wheels for collected packages: docx2txt\n",
            "  Building wheel for docx2txt (setup.py) ... \u001b[?25l\u001b[?25hdone\n",
            "  Created wheel for docx2txt: filename=docx2txt-0.8-py3-none-any.whl size=3980 sha256=2567dd62d789da48ec075be6c82be2a298c996e7b43848dbe3fd6d7919663857\n",
            "  Stored in directory: /root/.cache/pip/wheels/b7/20/b2/473e3aea9a0c0d3e7b2f7bd81d06d0794fec12752733d1f3a8\n",
            "Successfully built docx2txt\n",
            "Installing collected packages: docx2txt\n",
            "Successfully installed docx2txt-0.8\n"
          ]
        }
      ],
      "source": [
        "!pip install docx2txt"
      ]
    },
    {
      "cell_type": "markdown",
      "metadata": {
        "id": "2ilCLqUDgD6k"
      },
      "source": [
        "CLEANING THE RESUME"
      ]
    },
    {
      "cell_type": "code",
      "execution_count": 2,
      "metadata": {
        "colab": {
          "base_uri": "https://localhost:8080/"
        },
        "id": "KkLTKA9pcWfv",
        "outputId": "ba117806-a92e-4794-a887-4a35d67d8711"
      },
      "outputs": [
        {
          "output_type": "stream",
          "name": "stdout",
          "text": [
            "RESUME Name TEELLA VANAJA Contact  Email vanajateella Career Objective Seeking a position in a reputed Organisation where I can use my technical skills as well as soft skills for the development of the organization and my professional growth Educational Qualifications Course Institute University Board Year of Completion CGPA Percentage B Tech CIVIL Gayatri Vidya Parishad College Of Engineering Autonomous Jawaharlal Nehru Technological University Kakinada JNTUK    Intermediate Vidwan junior college Bobbili Board of Intermediate Education Andhra Pradesh    SSC Andhra pardesh model school Mulakkayavalasa SSC   Skills Languages C python CORE QUALIFICATIONS Auto Cad Structural Analysis Geo technical Strength of materials Surveying Fluid Mechanics Building Materials and Concrete technology Certifications AUTOCAD participated in the exam conducted by APSSDC Strengths Adaptability Optimistic Always interested in learning new things and also sharing the acquired knowledge with others Confidence Extra Curricular Activities I m an active participant of RACGVP of our College Participated in Quiz organized by NSS of our college Personal Details Father s Name Teella Swami Naidu Date of Birth    Languages Known English Hindi Telugu Hobbies Cooking Browsing Internet Paper Craft Reading Stories Solving puzzles Address for communication Door Number   Kothavedi Chemudu Village Makkuva Mandal Vizianagaram District Andhra Pradesh Declaration I hereby declare that the above mentioned information is a urate to the best of my knowledge Place Chemudu Signature Date    T Vanaja\n"
          ]
        }
      ],
      "source": [
        "import docx2txt\n",
        "import numpy as np\n",
        "resume = docx2txt.process(\"/content/vanaja resume.docx\")\n",
        "import re\n",
        "def cleanResume(resumeText):\n",
        "    resumeText = re.sub('http\\S+\\s*', ' ', resumeText)  # remove URLs\n",
        "    resumeText = re.sub('RT|cc', ' ', resumeText)  # remove RT and cc\n",
        "    resumeText = re.sub('#\\S+', '', resumeText)  # remove hashtags\n",
        "    resumeText = re.sub('@\\S+', '  ', resumeText)  # remove mentions\n",
        "    resumeText = re.sub('[%s]' % re.escape(\"\"\"!\"#$%&'()*+,-./:;<=>?@[\\]^_`{|}~\"\"\"), ' ', resumeText)  # remove punctuations\n",
        "    resumeText = re.sub(r'[^\\x00-\\x7f]',r' ', resumeText) \n",
        "    resumeText = re.sub('\\s+', ' ', resumeText)  # remove extra whitespace\n",
        "    res1 = ''.join([i for i in resumeText if not i.isdigit()])\n",
        "    return res1\n",
        "    \n",
        "resume0=cleanResume(resume)\n",
        "print(resume0)\n",
        "d='RESUME Name TEELLA VANAJA Contact  Email vanajateella Career Objective Seeking a position in a reputed Organisation where I can use my technical skills as well as soft skills for the development of the organization and my professional growth Educational Qualifications Course Institute University Board Year of Completion CGPA Percentage B Tech CIVIL Gayatri Vidya Parishad College Of Engineering Autonomous Jawaharlal Nehru Technological University Kakinada JNTUK    Intermediate Vidwan junior college Bobbili Board of Intermediate Education Andhra P'\n",
        "#d='RESUME Name DHARANI POLUKONDA Contact  Email polukondadharani LinkedIn Career Objective Seeking a position in a reputed Organisation where I can use my technical skills as well as soft skills for the development of the organization and my professional growth Educational Qualifications Course Institute University Board Year of Completion CGPA Percentage B Tech CSE Data Science Gayatri Vidya Parishad College Of Engineering Autonomous Jawaharlal Nehru Technological University Kakinada JNTUK    pursuing Intermediate Star Junior College Machilipatnam Board of Intermediate Education Andhra Pradesh    SSC Narayana e Techno School Machilipatnam SSC      Technical Skills Languages C Java R Advanced python Web Technologies HTML CSS JavaScript PHP Databases Oracle SQL Data Structures OOPs Concepts Design Analysis of Algorithms Operating Systems Computer Networks Database Management Systems and Software Engineering linux Certifications PCAP Programming Essentials in Python certification from CISCO Networking Academy Strengths Adaptability Optimistic Always interested in learning new things and also sharing the acquired knowledge with others Confidence Projects Developed a Dice game using JavaScript and HTML Developed an Application named Plavika which can be used to find plasma donors and allows the interested people to enroll as a Plasma Donor Academic Achievements Qualified in WE talent sprint supported by google Extra Curricular Activities I m an active participant of YES RACGVP of our College Participated in Group Discussion organized by IEEE WIE AG GVPCE A Participated in Debate organized by ICE under the auspices of Association of Civil Engineers Participated in Byte Code Quiz organized by IEEE Personal Details Father s Name Polukonda Veeranjaneyulu Date of Birth    Languages Known English Hindi Telugu Hobbies Cooking Browsing Internet Paper Craft Dancing Address for communication Plot  Sri venkateswara complex near kanayaka parameswari rice mill Godugupeta Koner center Machilipatnam pin code  Andhra Pradesh Declaration I hereby declare that the above mentioned information is a urate to the best of my knowledge Place Machilipatnam Signature Date    P Dharani'"
      ]
    },
    {
      "cell_type": "code",
      "execution_count": 3,
      "metadata": {
        "id": "2roIulIzJHb-"
      },
      "outputs": [],
      "source": [
        "def cleanResume(resumeText):\n",
        "    resumeText = re.sub('httpS+s*', ' ', resumeText)  # remove URLs\n",
        "    resumeText = re.sub('RT|cc', ' ', resumeText)  # remove RT and cc\n",
        "    resumeText = re.sub('#S+', '', resumeText)  # remove hashtags\n",
        "    resumeText = re.sub('@S+', '  ', resumeText)  # remove mentions\n",
        "    resumeText = re.sub('[%s]' % re.escape(\"\"\"!\"#$%&'()*+,-./:;<=>?@[]^_`{|}~\"\"\"), ' ', resumeText)  # remove punctuations\n",
        "    resumeText = re.sub(r'[^x00-x7f]',r' ', resumeText) \n",
        "    resumeText = re.sub('s+', ' ', resumeText)  # remove extra whitespace\n",
        "    return resumeText\n",
        "t1=cleanResume(resume0)"
      ]
    },
    {
      "cell_type": "markdown",
      "metadata": {
        "id": "gtLJtW3RgaTa"
      },
      "source": [
        "importing libaries"
      ]
    },
    {
      "cell_type": "code",
      "execution_count": 4,
      "metadata": {
        "colab": {
          "base_uri": "https://localhost:8080/"
        },
        "id": "luC35yRIgYac",
        "outputId": "86af7470-dddf-4b80-daae-63fb93b6f5aa"
      },
      "outputs": [
        {
          "output_type": "stream",
          "name": "stderr",
          "text": [
            "[nltk_data] Downloading package stopwords to /root/nltk_data...\n",
            "[nltk_data]   Unzipping corpora/stopwords.zip.\n",
            "[nltk_data] Downloading package punkt to /root/nltk_data...\n",
            "[nltk_data]   Unzipping tokenizers/punkt.zip.\n"
          ]
        }
      ],
      "source": [
        "import nltk\n",
        "from nltk.corpus import stopwords\n",
        "import string\n",
        "from wordcloud import WordCloud\n",
        "nltk.download('stopwords')\n",
        "nltk.download('punkt')\n",
        "import pandas as pd\n",
        "import re\n",
        "from sklearn.preprocessing import LabelEncoder"
      ]
    },
    {
      "cell_type": "markdown",
      "metadata": {
        "id": "8D4SAdBdgpS0"
      },
      "source": [
        " Store the job description into a variable"
      ]
    },
    {
      "cell_type": "code",
      "execution_count": 5,
      "metadata": {
        "colab": {
          "base_uri": "https://localhost:8080/",
          "height": 449
        },
        "id": "PVPgYwlvd1TX",
        "outputId": "b80a3bbe-ff1c-4ffd-f55c-2ee8baf8bd3b"
      },
      "outputs": [
        {
          "output_type": "stream",
          "name": "stdout",
          "text": [
            "         Category                                             Resume\n",
            "0    Data Science  Skills * Programming Languages: Python (pandas...\n",
            "1    Data Science  Education Details \\r\\nMay 2013 to May 2017 B.E...\n",
            "2    Data Science  Areas of Interest Deep Learning, Control Syste...\n",
            "3    Data Science  Skills â¢ R â¢ Python â¢ SAP HANA â¢ Table...\n",
            "4    Data Science  Education Details \\r\\n MCA   YMCAUST,  Faridab...\n",
            "..            ...                                                ...\n",
            "957       Testing  Computer Skills: â¢ Proficient in MS office (...\n",
            "958       Testing  â Willingness to accept the challenges. â ...\n",
            "959       Testing  PERSONAL SKILLS â¢ Quick learner, â¢ Eagerne...\n",
            "960       Testing  COMPUTER SKILLS & SOFTWARE KNOWLEDGE MS-Power ...\n",
            "961       Testing  Skill Set OS Windows XP/7/8/8.1/10 Database MY...\n",
            "\n",
            "[962 rows x 2 columns]\n"
          ]
        },
        {
          "output_type": "execute_result",
          "data": {
            "text/plain": [
              "       Category                                             Resume  \\\n",
              "0  Data Science  Skills * Programming Languages: Python (pandas...   \n",
              "1  Data Science  Education Details \\r\\nMay 2013 to May 2017 B.E...   \n",
              "2  Data Science  Areas of Interest Deep Learning, Control Syste...   \n",
              "3  Data Science  Skills â¢ R â¢ Python â¢ SAP HANA â¢ Table...   \n",
              "4  Data Science  Education Details \\r\\n MCA   YMCAUST,  Faridab...   \n",
              "\n",
              "  cleaned_resume  \n",
              "0                 \n",
              "1                 \n",
              "2                 \n",
              "3                 \n",
              "4                 "
            ],
            "text/html": [
              "\n",
              "  <div id=\"df-98c5fef9-c366-4260-8e28-99bab3f062a0\">\n",
              "    <div class=\"colab-df-container\">\n",
              "      <div>\n",
              "<style scoped>\n",
              "    .dataframe tbody tr th:only-of-type {\n",
              "        vertical-align: middle;\n",
              "    }\n",
              "\n",
              "    .dataframe tbody tr th {\n",
              "        vertical-align: top;\n",
              "    }\n",
              "\n",
              "    .dataframe thead th {\n",
              "        text-align: right;\n",
              "    }\n",
              "</style>\n",
              "<table border=\"1\" class=\"dataframe\">\n",
              "  <thead>\n",
              "    <tr style=\"text-align: right;\">\n",
              "      <th></th>\n",
              "      <th>Category</th>\n",
              "      <th>Resume</th>\n",
              "      <th>cleaned_resume</th>\n",
              "    </tr>\n",
              "  </thead>\n",
              "  <tbody>\n",
              "    <tr>\n",
              "      <th>0</th>\n",
              "      <td>Data Science</td>\n",
              "      <td>Skills * Programming Languages: Python (pandas...</td>\n",
              "      <td></td>\n",
              "    </tr>\n",
              "    <tr>\n",
              "      <th>1</th>\n",
              "      <td>Data Science</td>\n",
              "      <td>Education Details \\r\\nMay 2013 to May 2017 B.E...</td>\n",
              "      <td></td>\n",
              "    </tr>\n",
              "    <tr>\n",
              "      <th>2</th>\n",
              "      <td>Data Science</td>\n",
              "      <td>Areas of Interest Deep Learning, Control Syste...</td>\n",
              "      <td></td>\n",
              "    </tr>\n",
              "    <tr>\n",
              "      <th>3</th>\n",
              "      <td>Data Science</td>\n",
              "      <td>Skills â¢ R â¢ Python â¢ SAP HANA â¢ Table...</td>\n",
              "      <td></td>\n",
              "    </tr>\n",
              "    <tr>\n",
              "      <th>4</th>\n",
              "      <td>Data Science</td>\n",
              "      <td>Education Details \\r\\n MCA   YMCAUST,  Faridab...</td>\n",
              "      <td></td>\n",
              "    </tr>\n",
              "  </tbody>\n",
              "</table>\n",
              "</div>\n",
              "      <button class=\"colab-df-convert\" onclick=\"convertToInteractive('df-98c5fef9-c366-4260-8e28-99bab3f062a0')\"\n",
              "              title=\"Convert this dataframe to an interactive table.\"\n",
              "              style=\"display:none;\">\n",
              "        \n",
              "  <svg xmlns=\"http://www.w3.org/2000/svg\" height=\"24px\"viewBox=\"0 0 24 24\"\n",
              "       width=\"24px\">\n",
              "    <path d=\"M0 0h24v24H0V0z\" fill=\"none\"/>\n",
              "    <path d=\"M18.56 5.44l.94 2.06.94-2.06 2.06-.94-2.06-.94-.94-2.06-.94 2.06-2.06.94zm-11 1L8.5 8.5l.94-2.06 2.06-.94-2.06-.94L8.5 2.5l-.94 2.06-2.06.94zm10 10l.94 2.06.94-2.06 2.06-.94-2.06-.94-.94-2.06-.94 2.06-2.06.94z\"/><path d=\"M17.41 7.96l-1.37-1.37c-.4-.4-.92-.59-1.43-.59-.52 0-1.04.2-1.43.59L10.3 9.45l-7.72 7.72c-.78.78-.78 2.05 0 2.83L4 21.41c.39.39.9.59 1.41.59.51 0 1.02-.2 1.41-.59l7.78-7.78 2.81-2.81c.8-.78.8-2.07 0-2.86zM5.41 20L4 18.59l7.72-7.72 1.47 1.35L5.41 20z\"/>\n",
              "  </svg>\n",
              "      </button>\n",
              "      \n",
              "  <style>\n",
              "    .colab-df-container {\n",
              "      display:flex;\n",
              "      flex-wrap:wrap;\n",
              "      gap: 12px;\n",
              "    }\n",
              "\n",
              "    .colab-df-convert {\n",
              "      background-color: #E8F0FE;\n",
              "      border: none;\n",
              "      border-radius: 50%;\n",
              "      cursor: pointer;\n",
              "      display: none;\n",
              "      fill: #1967D2;\n",
              "      height: 32px;\n",
              "      padding: 0 0 0 0;\n",
              "      width: 32px;\n",
              "    }\n",
              "\n",
              "    .colab-df-convert:hover {\n",
              "      background-color: #E2EBFA;\n",
              "      box-shadow: 0px 1px 2px rgba(60, 64, 67, 0.3), 0px 1px 3px 1px rgba(60, 64, 67, 0.15);\n",
              "      fill: #174EA6;\n",
              "    }\n",
              "\n",
              "    [theme=dark] .colab-df-convert {\n",
              "      background-color: #3B4455;\n",
              "      fill: #D2E3FC;\n",
              "    }\n",
              "\n",
              "    [theme=dark] .colab-df-convert:hover {\n",
              "      background-color: #434B5C;\n",
              "      box-shadow: 0px 1px 3px 1px rgba(0, 0, 0, 0.15);\n",
              "      filter: drop-shadow(0px 1px 2px rgba(0, 0, 0, 0.3));\n",
              "      fill: #FFFFFF;\n",
              "    }\n",
              "  </style>\n",
              "\n",
              "      <script>\n",
              "        const buttonEl =\n",
              "          document.querySelector('#df-98c5fef9-c366-4260-8e28-99bab3f062a0 button.colab-df-convert');\n",
              "        buttonEl.style.display =\n",
              "          google.colab.kernel.accessAllowed ? 'block' : 'none';\n",
              "\n",
              "        async function convertToInteractive(key) {\n",
              "          const element = document.querySelector('#df-98c5fef9-c366-4260-8e28-99bab3f062a0');\n",
              "          const dataTable =\n",
              "            await google.colab.kernel.invokeFunction('convertToInteractive',\n",
              "                                                     [key], {});\n",
              "          if (!dataTable) return;\n",
              "\n",
              "          const docLinkHtml = 'Like what you see? Visit the ' +\n",
              "            '<a target=\"_blank\" href=https://colab.research.google.com/notebooks/data_table.ipynb>data table notebook</a>'\n",
              "            + ' to learn more about interactive tables.';\n",
              "          element.innerHTML = '';\n",
              "          dataTable['output_type'] = 'display_data';\n",
              "          await google.colab.output.renderOutput(dataTable, element);\n",
              "          const docLink = document.createElement('div');\n",
              "          docLink.innerHTML = docLinkHtml;\n",
              "          element.appendChild(docLink);\n",
              "        }\n",
              "      </script>\n",
              "    </div>\n",
              "  </div>\n",
              "  "
            ]
          },
          "metadata": {},
          "execution_count": 5
        }
      ],
      "source": [
        "\n",
        "resumeDataSet = pd.read_csv(\"/content/UpdatedResumeDataSet.csv\")\n",
        "print(resumeDataSet)\n",
        "resumeDataSet['cleaned_resume'] = ''\n",
        "resumeDataSet.head()"
      ]
    },
    {
      "cell_type": "code",
      "execution_count": 6,
      "metadata": {
        "colab": {
          "base_uri": "https://localhost:8080/"
        },
        "id": "LamNtI5iiq7s",
        "outputId": "345dfe2e-b432-4580-8a50-088b4cd46358"
      },
      "outputs": [
        {
          "output_type": "stream",
          "name": "stdout",
          "text": [
            "<class 'pandas.core.frame.DataFrame'>\n",
            "RangeIndex: 962 entries, 0 to 961\n",
            "Data columns (total 3 columns):\n",
            " #   Column          Non-Null Count  Dtype \n",
            "---  ------          --------------  ----- \n",
            " 0   Category        962 non-null    object\n",
            " 1   Resume          962 non-null    object\n",
            " 2   cleaned_resume  962 non-null    object\n",
            "dtypes: object(3)\n",
            "memory usage: 22.7+ KB\n"
          ]
        }
      ],
      "source": [
        "resumeDataSet.info()"
      ]
    },
    {
      "cell_type": "code",
      "execution_count": 7,
      "metadata": {
        "colab": {
          "base_uri": "https://localhost:8080/"
        },
        "id": "0bYodQxokdil",
        "outputId": "5a38098d-66e3-4d78-fd21-6c1b3ee50b2c"
      },
      "outputs": [
        {
          "output_type": "stream",
          "name": "stdout",
          "text": [
            "Displaying the distinct categories of resume:\n",
            "\n",
            " \n",
            "['Data Science' 'HR' 'Advocate' 'Arts' 'Web Designing'\n",
            " 'Mechanical Engineer' 'Sales' 'Health and fitness' 'Civil Engineer'\n",
            " 'Java Developer' 'Business Analyst' 'SAP Developer' 'Automation Testing'\n",
            " 'Electrical Engineering' 'Operations Manager' 'Python Developer'\n",
            " 'DevOps Engineer' 'Network Security Engineer' 'PMO' 'Database' 'Hadoop'\n",
            " 'ETL Developer' 'DotNet Developer' 'Blockchain' 'Testing']\n",
            "total unique category: 25\n"
          ]
        }
      ],
      "source": [
        "print (\"Displaying the distinct categories of resume:\\n\\n \")\n",
        "print (resumeDataSet['Category'].unique())\n",
        "print(\"total unique category: {}\". format(len(resumeDataSet['Category'].unique())))"
      ]
    },
    {
      "cell_type": "code",
      "execution_count": 8,
      "metadata": {
        "colab": {
          "base_uri": "https://localhost:8080/"
        },
        "id": "a49eghc8pZ0O",
        "outputId": "bb297cb7-bd6e-4bac-8f1a-1b83369cb726"
      },
      "outputs": [
        {
          "output_type": "stream",
          "name": "stdout",
          "text": [
            "Java Developer               84\n",
            "Testing                      70\n",
            "DevOps Engineer              55\n",
            "Python Developer             48\n",
            "Web Designing                45\n",
            "HR                           44\n",
            "Hadoop                       42\n",
            "Blockchain                   40\n",
            "ETL Developer                40\n",
            "Operations Manager           40\n",
            "Data Science                 40\n",
            "Sales                        40\n",
            "Mechanical Engineer          40\n",
            "Arts                         36\n",
            "Database                     33\n",
            "Electrical Engineering       30\n",
            "Health and fitness           30\n",
            "PMO                          30\n",
            "Business Analyst             28\n",
            "DotNet Developer             28\n",
            "Automation Testing           26\n",
            "Network Security Engineer    25\n",
            "SAP Developer                24\n",
            "Civil Engineer               24\n",
            "Advocate                     20\n",
            "Name: Category, dtype: int64\n"
          ]
        }
      ],
      "source": [
        "print(resumeDataSet['Category'].value_counts())"
      ]
    },
    {
      "cell_type": "code",
      "execution_count": 9,
      "metadata": {
        "id": "3z491kZqppgP"
      },
      "outputs": [],
      "source": [
        "# import seaborn as sns\n",
        "# import matplotlib.pyplot as plt\n",
        "# plt.figure(figsize=(20,15))\n",
        "# sns.countplot(y=\"Category\",data=resumeDataSet)"
      ]
    },
    {
      "cell_type": "markdown",
      "metadata": {
        "id": "FOl0L9jghE5C"
      },
      "source": [
        "Cleaning the dataset"
      ]
    },
    {
      "cell_type": "code",
      "execution_count": 10,
      "metadata": {
        "id": "_3D_kyyvkyQA"
      },
      "outputs": [],
      "source": [
        "import re\n",
        "def cleanResume(resumeText):\n",
        "    resumeText = re.sub('http\\S+\\s*', ' ', resumeText)  # remove URLs\n",
        "    resumeText = re.sub('RT|cc', ' ', resumeText)  # remove RT and cc\n",
        "    resumeText = re.sub('#\\S+', '', resumeText)  # remove hashtags\n",
        "    resumeText = re.sub('@\\S+', '  ', resumeText)  # remove mentions\n",
        "    resumeText = re.sub('[%s]' % re.escape(\"\"\"!\"#$%&'()*+,-./:;<=>?@[\\]^_`{|}~\"\"\"), ' ', resumeText)  # remove punctuations\n",
        "    resumeText = re.sub(r'[^\\x00-\\x7f]',r' ', resumeText) \n",
        "    resumeText = re.sub('\\s+', ' ', resumeText)# remove extra whitespace\n",
        "    res1 = ''.join([i for i in resumeText if not i.isdigit()])\n",
        "    return res1\n",
        "    \n",
        "resumeDataSet['cleaned_resume'] = resumeDataSet.Resume.apply(lambda x: cleanResume(x))"
      ]
    },
    {
      "cell_type": "code",
      "execution_count": 11,
      "metadata": {
        "colab": {
          "base_uri": "https://localhost:8080/"
        },
        "id": "C3jOUHbDtJdt",
        "outputId": "b2fb0847-fcdb-46a4-9dfb-56975b1f0f13"
      },
      "outputs": [
        {
          "output_type": "execute_result",
          "data": {
            "text/plain": [
              "pandas.core.frame.DataFrame"
            ]
          },
          "metadata": {},
          "execution_count": 11
        }
      ],
      "source": [
        "type(resumeDataSet)"
      ]
    },
    {
      "cell_type": "code",
      "execution_count": 12,
      "metadata": {
        "colab": {
          "base_uri": "https://localhost:8080/",
          "height": 206
        },
        "id": "-PAUw0J7k_j_",
        "outputId": "66e8ea35-a337-4147-80c7-6bdb80837924"
      },
      "outputs": [
        {
          "output_type": "execute_result",
          "data": {
            "text/plain": [
              "       Category                                             Resume  \\\n",
              "0  Data Science  Skills * Programming Languages: Python (pandas...   \n",
              "1  Data Science  Education Details \\r\\nMay 2013 to May 2017 B.E...   \n",
              "2  Data Science  Areas of Interest Deep Learning, Control Syste...   \n",
              "3  Data Science  Skills â¢ R â¢ Python â¢ SAP HANA â¢ Table...   \n",
              "4  Data Science  Education Details \\r\\n MCA   YMCAUST,  Faridab...   \n",
              "\n",
              "                                      cleaned_resume  \n",
              "0  Skills Programming Languages Python pandas num...  \n",
              "1  Education Details May  to May  B E UIT RGPV Da...  \n",
              "2  Areas of Interest Deep Learning Control System...  \n",
              "3  Skills R Python SAP HANA Tableau SAP HANA SQL ...  \n",
              "4  Education Details MCA YMCAUST Faridabad Haryan...  "
            ],
            "text/html": [
              "\n",
              "  <div id=\"df-01a4c743-d244-404a-b244-0fec321edcd4\">\n",
              "    <div class=\"colab-df-container\">\n",
              "      <div>\n",
              "<style scoped>\n",
              "    .dataframe tbody tr th:only-of-type {\n",
              "        vertical-align: middle;\n",
              "    }\n",
              "\n",
              "    .dataframe tbody tr th {\n",
              "        vertical-align: top;\n",
              "    }\n",
              "\n",
              "    .dataframe thead th {\n",
              "        text-align: right;\n",
              "    }\n",
              "</style>\n",
              "<table border=\"1\" class=\"dataframe\">\n",
              "  <thead>\n",
              "    <tr style=\"text-align: right;\">\n",
              "      <th></th>\n",
              "      <th>Category</th>\n",
              "      <th>Resume</th>\n",
              "      <th>cleaned_resume</th>\n",
              "    </tr>\n",
              "  </thead>\n",
              "  <tbody>\n",
              "    <tr>\n",
              "      <th>0</th>\n",
              "      <td>Data Science</td>\n",
              "      <td>Skills * Programming Languages: Python (pandas...</td>\n",
              "      <td>Skills Programming Languages Python pandas num...</td>\n",
              "    </tr>\n",
              "    <tr>\n",
              "      <th>1</th>\n",
              "      <td>Data Science</td>\n",
              "      <td>Education Details \\r\\nMay 2013 to May 2017 B.E...</td>\n",
              "      <td>Education Details May  to May  B E UIT RGPV Da...</td>\n",
              "    </tr>\n",
              "    <tr>\n",
              "      <th>2</th>\n",
              "      <td>Data Science</td>\n",
              "      <td>Areas of Interest Deep Learning, Control Syste...</td>\n",
              "      <td>Areas of Interest Deep Learning Control System...</td>\n",
              "    </tr>\n",
              "    <tr>\n",
              "      <th>3</th>\n",
              "      <td>Data Science</td>\n",
              "      <td>Skills â¢ R â¢ Python â¢ SAP HANA â¢ Table...</td>\n",
              "      <td>Skills R Python SAP HANA Tableau SAP HANA SQL ...</td>\n",
              "    </tr>\n",
              "    <tr>\n",
              "      <th>4</th>\n",
              "      <td>Data Science</td>\n",
              "      <td>Education Details \\r\\n MCA   YMCAUST,  Faridab...</td>\n",
              "      <td>Education Details MCA YMCAUST Faridabad Haryan...</td>\n",
              "    </tr>\n",
              "  </tbody>\n",
              "</table>\n",
              "</div>\n",
              "      <button class=\"colab-df-convert\" onclick=\"convertToInteractive('df-01a4c743-d244-404a-b244-0fec321edcd4')\"\n",
              "              title=\"Convert this dataframe to an interactive table.\"\n",
              "              style=\"display:none;\">\n",
              "        \n",
              "  <svg xmlns=\"http://www.w3.org/2000/svg\" height=\"24px\"viewBox=\"0 0 24 24\"\n",
              "       width=\"24px\">\n",
              "    <path d=\"M0 0h24v24H0V0z\" fill=\"none\"/>\n",
              "    <path d=\"M18.56 5.44l.94 2.06.94-2.06 2.06-.94-2.06-.94-.94-2.06-.94 2.06-2.06.94zm-11 1L8.5 8.5l.94-2.06 2.06-.94-2.06-.94L8.5 2.5l-.94 2.06-2.06.94zm10 10l.94 2.06.94-2.06 2.06-.94-2.06-.94-.94-2.06-.94 2.06-2.06.94z\"/><path d=\"M17.41 7.96l-1.37-1.37c-.4-.4-.92-.59-1.43-.59-.52 0-1.04.2-1.43.59L10.3 9.45l-7.72 7.72c-.78.78-.78 2.05 0 2.83L4 21.41c.39.39.9.59 1.41.59.51 0 1.02-.2 1.41-.59l7.78-7.78 2.81-2.81c.8-.78.8-2.07 0-2.86zM5.41 20L4 18.59l7.72-7.72 1.47 1.35L5.41 20z\"/>\n",
              "  </svg>\n",
              "      </button>\n",
              "      \n",
              "  <style>\n",
              "    .colab-df-container {\n",
              "      display:flex;\n",
              "      flex-wrap:wrap;\n",
              "      gap: 12px;\n",
              "    }\n",
              "\n",
              "    .colab-df-convert {\n",
              "      background-color: #E8F0FE;\n",
              "      border: none;\n",
              "      border-radius: 50%;\n",
              "      cursor: pointer;\n",
              "      display: none;\n",
              "      fill: #1967D2;\n",
              "      height: 32px;\n",
              "      padding: 0 0 0 0;\n",
              "      width: 32px;\n",
              "    }\n",
              "\n",
              "    .colab-df-convert:hover {\n",
              "      background-color: #E2EBFA;\n",
              "      box-shadow: 0px 1px 2px rgba(60, 64, 67, 0.3), 0px 1px 3px 1px rgba(60, 64, 67, 0.15);\n",
              "      fill: #174EA6;\n",
              "    }\n",
              "\n",
              "    [theme=dark] .colab-df-convert {\n",
              "      background-color: #3B4455;\n",
              "      fill: #D2E3FC;\n",
              "    }\n",
              "\n",
              "    [theme=dark] .colab-df-convert:hover {\n",
              "      background-color: #434B5C;\n",
              "      box-shadow: 0px 1px 3px 1px rgba(0, 0, 0, 0.15);\n",
              "      filter: drop-shadow(0px 1px 2px rgba(0, 0, 0, 0.3));\n",
              "      fill: #FFFFFF;\n",
              "    }\n",
              "  </style>\n",
              "\n",
              "      <script>\n",
              "        const buttonEl =\n",
              "          document.querySelector('#df-01a4c743-d244-404a-b244-0fec321edcd4 button.colab-df-convert');\n",
              "        buttonEl.style.display =\n",
              "          google.colab.kernel.accessAllowed ? 'block' : 'none';\n",
              "\n",
              "        async function convertToInteractive(key) {\n",
              "          const element = document.querySelector('#df-01a4c743-d244-404a-b244-0fec321edcd4');\n",
              "          const dataTable =\n",
              "            await google.colab.kernel.invokeFunction('convertToInteractive',\n",
              "                                                     [key], {});\n",
              "          if (!dataTable) return;\n",
              "\n",
              "          const docLinkHtml = 'Like what you see? Visit the ' +\n",
              "            '<a target=\"_blank\" href=https://colab.research.google.com/notebooks/data_table.ipynb>data table notebook</a>'\n",
              "            + ' to learn more about interactive tables.';\n",
              "          element.innerHTML = '';\n",
              "          dataTable['output_type'] = 'display_data';\n",
              "          await google.colab.output.renderOutput(dataTable, element);\n",
              "          const docLink = document.createElement('div');\n",
              "          docLink.innerHTML = docLinkHtml;\n",
              "          element.appendChild(docLink);\n",
              "        }\n",
              "      </script>\n",
              "    </div>\n",
              "  </div>\n",
              "  "
            ]
          },
          "metadata": {},
          "execution_count": 12
        }
      ],
      "source": [
        "resumeDataSet.head()"
      ]
    },
    {
      "cell_type": "markdown",
      "metadata": {
        "id": "eff44x63hQ_A"
      },
      "source": [
        "word count\n"
      ]
    },
    {
      "cell_type": "code",
      "execution_count": 13,
      "metadata": {
        "colab": {
          "base_uri": "https://localhost:8080/"
        },
        "id": "jL8TNxilq5RK",
        "outputId": "57c64b95-d13e-4918-dde0-2777a0e906d0"
      },
      "outputs": [
        {
          "output_type": "stream",
          "name": "stdout",
          "text": [
            "[('Details', 609), ('Exprience', 580), ('months', 478), ('company', 459), ('description', 427), ('Project', 269), ('year', 264), ('January', 253), ('Maharashtra', 244), ('Less', 224), ('data', 223), ('project', 212), ('Skill', 206), ('Data', 203), ('Web', 196), ('Education', 192), ('application', 192), ('HTML', 178), ('CSS', 174), ('I', 174), ('time', 169), ('Python', 168), ('College', 168), ('Science', 154), ('Pune', 154), ('Used', 152), ('Software', 151), ('Engineering', 147), ('The', 146), ('University', 140), ('like', 139), ('Nagpur', 138), ('C', 137), ('SQL', 136), ('monthsCompany', 134), ('Roles', 134), ('B', 132), ('Responsibility', 130), ('developed', 128), ('Technologies', 127), ('India', 122), ('Designed', 121), ('website', 120), ('Machine', 118), ('UI', 117), ('Learning', 116), ('Developer', 116), ('Mumbai', 115), ('using', 114), ('Database', 110), ('development', 105), ('Description', 103), ('Responsibilities', 100), ('S', 100), ('A', 99), ('BOOTSTRAP', 99), ('Team', 97), ('Management', 96), ('required', 94), ('requirement', 93), ('team', 92), ('Trust', 92), ('learning', 90), ('Systems', 90), ('Arts', 90), ('Made', 90), ('various', 89), ('Skills', 88), ('projects', 88), ('based', 86), ('Development', 86), ('new', 83), ('design', 82), ('PHP', 81), ('text', 79), ('Company', 79), ('user', 77), ('Technical', 77), ('Ltd', 77), ('My', 76), ('Board', 76), ('information', 75), ('Pvt', 75), ('Application', 74), ('M', 74), ('State', 72), ('www', 72), ('JQUERY', 72), ('AJAX', 72), ('size', 72), ('Position', 72), ('Synopsis', 72), ('com', 71), ('Name', 71), ('work', 70), ('Council', 70), ('E', 69), ('SAP', 68), ('given', 68), ('days', 68)]\n"
          ]
        }
      ],
      "source": [
        "import nltk\n",
        "from nltk.corpus import stopwords\n",
        "import string\n",
        "from wordcloud import WordCloud\n",
        "\n",
        "stopwords=set(stopwords.words('english')+['``',\"''\"])\n",
        "\n",
        "total_words=[]\n",
        "sentences=resumeDataSet['Resume'].values\n",
        "cleanSentences =\"\"\n",
        "\n",
        "for i in range(0,200):\n",
        "    resumeText=cleanResume(sentences[i])\n",
        "    cleanSentences+=resumeText\n",
        "    words=nltk.word_tokenize(resumeText)\n",
        "    for word in words:\n",
        "        if word not in stopwords and word not in string.punctuation:\n",
        "            total_words.append(word)\n",
        "            \n",
        "word_freq_dist=nltk.FreqDist(total_words)\n",
        "most_common=word_freq_dist.most_common(100)\n",
        "\n",
        "print(most_common)"
      ]
    },
    {
      "cell_type": "code",
      "execution_count": 14,
      "metadata": {
        "colab": {
          "base_uri": "https://localhost:8080/"
        },
        "id": "HKdxiE7jKL7h",
        "outputId": "2f95446c-9e06-4074-9bae-e3e8601eb78c"
      },
      "outputs": [
        {
          "output_type": "stream",
          "name": "stdout",
          "text": [
            "RESUME Name TEELLA VANAJA Contact  Email vanajateella Career Objective Seeking a position in a reputed Organisation where I can use my technical skills as well as soft skills for the development of the organization and my professional growth Educational Qualifications Course Institute University Board Year of Completion CGPA Percentage B Tech CIVIL Gayatri Vidya Parishad College Of Engineering Autonomous Jawaharlal Nehru Technological University Kakinada JNTUK    Intermediate Vidwan junior college Bobbili Board of Intermediate Education Andhra Pradesh    SSC Andhra pardesh model school Mulakkayavalasa SSC   Skills Languages C python CORE QUALIFICATIONS Auto Cad Structural Analysis Geo technical Strength of materials Surveying Fluid Mechanics Building Materials and Concrete technology Certifications AUTOCAD participated in the exam conducted by APSSDC Strengths Adaptability Optimistic Always interested in learning new things and also sharing the acquired knowledge with others Confidence Extra Curricular Activities I m an active participant of RACGVP of our College Participated in Quiz organized by NSS of our college Personal Details Father s Name Teella Swami Naidu Date of Birth    Languages Known English Hindi Telugu Hobbies Cooking Browsing Internet Paper Craft Reading Stories Solving puzzles Address for communication Door Number   Kothavedi Chemudu Village Makkuva Mandal Vizianagaram District Andhra Pradesh Declaration I hereby declare that the above mentioned information is a urate to the best of my knowledge Place Chemudu Signature Date    T Vanaja\n",
            "[]\n"
          ]
        }
      ],
      "source": [
        "import nltk\n",
        "from nltk.corpus import stopwords\n",
        "import string\n",
        "from wordcloud import WordCloud\n",
        "stopwords=set(stopwords.words('english')+['``',\"''\"])\n",
        "\n",
        "total_words_1=[]\n",
        "sentences_1=resume0\n",
        "print(sentences_1)\n",
        "cleanSentences_1 =\"\"\n",
        "\n",
        "resumeText_1=cleanResume(sentences_1)\n",
        "cleanSentences_1+=resumeText_1\n",
        "words_1=nltk.word_tokenize(resumeText_1)\n",
        "for word in words_1:\n",
        "        if word not in stopwords and word not in string.punctuation:\n",
        "            total_words.append(word)\n",
        "            \n",
        "word_freq_dist_1=nltk.FreqDist(total_words_1)\n",
        "most_common_1=word_freq_dist_1.most_common(100)\n",
        "\n",
        "print(most_common_1)"
      ]
    },
    {
      "cell_type": "code",
      "execution_count": 15,
      "metadata": {
        "id": "2gzk0nZT6Ro0"
      },
      "outputs": [],
      "source": [
        "from sklearn.preprocessing import LabelEncoder\n",
        "\n",
        "var=['Category']\n",
        "le= LabelEncoder()\n",
        "for i in var:\n",
        "    resumeDataSet[i]=le.fit_transform(resumeDataSet[i])"
      ]
    },
    {
      "cell_type": "code",
      "execution_count": 16,
      "metadata": {
        "colab": {
          "base_uri": "https://localhost:8080/"
        },
        "id": "lFMG-ToKHUFu",
        "outputId": "cbd21f25-b8da-4a9c-fc4d-b036dbd4e38b"
      },
      "outputs": [
        {
          "output_type": "stream",
          "name": "stdout",
          "text": [
            "  (0, 136)\t0.0752701488880479\n",
            "  (0, 135)\t0.0752701488880479\n",
            "  (0, 134)\t0.0752701488880479\n",
            "  (0, 133)\t0.0752701488880479\n",
            "  (0, 132)\t0.0752701488880479\n",
            "  (0, 131)\t0.0752701488880479\n",
            "  (0, 130)\t0.1274434403701256\n",
            "  (0, 129)\t0.0752701488880479\n",
            "  (0, 128)\t0.0752701488880479\n",
            "  (0, 127)\t0.1274434403701256\n",
            "  (0, 126)\t0.0752701488880479\n",
            "  (0, 125)\t0.0752701488880479\n",
            "  (0, 124)\t0.1274434403701256\n",
            "  (0, 123)\t0.0752701488880479\n",
            "  (0, 122)\t0.0752701488880479\n",
            "  (0, 121)\t0.1274434403701256\n",
            "  (0, 120)\t0.0752701488880479\n",
            "  (0, 119)\t0.0752701488880479\n",
            "  (0, 118)\t0.0752701488880479\n",
            "  (0, 117)\t0.0752701488880479\n",
            "  (0, 116)\t0.0752701488880479\n",
            "  (0, 115)\t0.0752701488880479\n",
            "  (0, 114)\t0.0752701488880479\n",
            "  (0, 113)\t0.1274434403701256\n",
            "  (0, 112)\t0.0752701488880479\n",
            "  :\t:\n",
            "  (0, 24)\t0.0752701488880479\n",
            "  (0, 23)\t0.1796167318522033\n",
            "  (0, 22)\t0.0752701488880479\n",
            "  (0, 21)\t0.1274434403701256\n",
            "  (0, 20)\t0.0752701488880479\n",
            "  (0, 19)\t0.0752701488880479\n",
            "  (0, 18)\t0.0752701488880479\n",
            "  (0, 17)\t0.0752701488880479\n",
            "  (0, 16)\t0.0752701488880479\n",
            "  (0, 15)\t0.0752701488880479\n",
            "  (0, 14)\t0.0752701488880479\n",
            "  (0, 13)\t0.1274434403701256\n",
            "  (0, 12)\t0.0752701488880479\n",
            "  (0, 11)\t0.0752701488880479\n",
            "  (0, 10)\t0.0752701488880479\n",
            "  (0, 9)\t0.0752701488880479\n",
            "  (0, 8)\t0.0752701488880479\n",
            "  (0, 7)\t0.0752701488880479\n",
            "  (0, 6)\t0.1579628594263356\n",
            "  (0, 5)\t0.0752701488880479\n",
            "  (0, 4)\t0.0752701488880479\n",
            "  (0, 3)\t0.0752701488880479\n",
            "  (0, 2)\t0.0752701488880479\n",
            "  (0, 1)\t0.0752701488880479\n",
            "  (0, 0)\t0.0752701488880479\n"
          ]
        }
      ],
      "source": [
        "from sklearn.model_selection import train_test_split\n",
        "from sklearn.feature_extraction.text import TfidfVectorizer\n",
        "from scipy.sparse import hstack\n",
        "\n",
        "\n",
        "vect=TfidfVectorizer(\n",
        "     sublinear_tf=True,\n",
        "    stop_words='english',\n",
        "        max_features=146)\n",
        "resume=[resume0]\n",
        "\n",
        "vect.fit(resume)\n",
        "Word_feature_1=vect.transform(resume)\n",
        "print(Word_feature_1)"
      ]
    },
    {
      "cell_type": "code",
      "execution_count": 17,
      "metadata": {
        "colab": {
          "base_uri": "https://localhost:8080/",
          "height": 424
        },
        "id": "JupPNUcYsuwU",
        "outputId": "18701520-ab71-4c2f-d769-a748c502bab3"
      },
      "outputs": [
        {
          "output_type": "execute_result",
          "data": {
            "text/plain": [
              "     Category                                             Resume  \\\n",
              "0           6  Skills * Programming Languages: Python (pandas...   \n",
              "1           6  Education Details \\r\\nMay 2013 to May 2017 B.E...   \n",
              "2           6  Areas of Interest Deep Learning, Control Syste...   \n",
              "3           6  Skills â¢ R â¢ Python â¢ SAP HANA â¢ Table...   \n",
              "4           6  Education Details \\r\\n MCA   YMCAUST,  Faridab...   \n",
              "..        ...                                                ...   \n",
              "957        23  Computer Skills: â¢ Proficient in MS office (...   \n",
              "958        23  â Willingness to accept the challenges. â ...   \n",
              "959        23  PERSONAL SKILLS â¢ Quick learner, â¢ Eagerne...   \n",
              "960        23  COMPUTER SKILLS & SOFTWARE KNOWLEDGE MS-Power ...   \n",
              "961        23  Skill Set OS Windows XP/7/8/8.1/10 Database MY...   \n",
              "\n",
              "                                        cleaned_resume  \n",
              "0    Skills Programming Languages Python pandas num...  \n",
              "1    Education Details May  to May  B E UIT RGPV Da...  \n",
              "2    Areas of Interest Deep Learning Control System...  \n",
              "3    Skills R Python SAP HANA Tableau SAP HANA SQL ...  \n",
              "4    Education Details MCA YMCAUST Faridabad Haryan...  \n",
              "..                                                 ...  \n",
              "957  Computer Skills Proficient in MS office Word B...  \n",
              "958   Willingness to a ept the challenges Positive ...  \n",
              "959  PERSONAL SKILLS Quick learner Eagerness to lea...  \n",
              "960  COMPUTER SKILLS SOFTWARE KNOWLEDGE MS Power Po...  \n",
              "961  Skill Set OS Windows XP      Database MYSQL sq...  \n",
              "\n",
              "[962 rows x 3 columns]"
            ],
            "text/html": [
              "\n",
              "  <div id=\"df-2959c67c-5001-41c0-8eda-6581ecf345ce\">\n",
              "    <div class=\"colab-df-container\">\n",
              "      <div>\n",
              "<style scoped>\n",
              "    .dataframe tbody tr th:only-of-type {\n",
              "        vertical-align: middle;\n",
              "    }\n",
              "\n",
              "    .dataframe tbody tr th {\n",
              "        vertical-align: top;\n",
              "    }\n",
              "\n",
              "    .dataframe thead th {\n",
              "        text-align: right;\n",
              "    }\n",
              "</style>\n",
              "<table border=\"1\" class=\"dataframe\">\n",
              "  <thead>\n",
              "    <tr style=\"text-align: right;\">\n",
              "      <th></th>\n",
              "      <th>Category</th>\n",
              "      <th>Resume</th>\n",
              "      <th>cleaned_resume</th>\n",
              "    </tr>\n",
              "  </thead>\n",
              "  <tbody>\n",
              "    <tr>\n",
              "      <th>0</th>\n",
              "      <td>6</td>\n",
              "      <td>Skills * Programming Languages: Python (pandas...</td>\n",
              "      <td>Skills Programming Languages Python pandas num...</td>\n",
              "    </tr>\n",
              "    <tr>\n",
              "      <th>1</th>\n",
              "      <td>6</td>\n",
              "      <td>Education Details \\r\\nMay 2013 to May 2017 B.E...</td>\n",
              "      <td>Education Details May  to May  B E UIT RGPV Da...</td>\n",
              "    </tr>\n",
              "    <tr>\n",
              "      <th>2</th>\n",
              "      <td>6</td>\n",
              "      <td>Areas of Interest Deep Learning, Control Syste...</td>\n",
              "      <td>Areas of Interest Deep Learning Control System...</td>\n",
              "    </tr>\n",
              "    <tr>\n",
              "      <th>3</th>\n",
              "      <td>6</td>\n",
              "      <td>Skills â¢ R â¢ Python â¢ SAP HANA â¢ Table...</td>\n",
              "      <td>Skills R Python SAP HANA Tableau SAP HANA SQL ...</td>\n",
              "    </tr>\n",
              "    <tr>\n",
              "      <th>4</th>\n",
              "      <td>6</td>\n",
              "      <td>Education Details \\r\\n MCA   YMCAUST,  Faridab...</td>\n",
              "      <td>Education Details MCA YMCAUST Faridabad Haryan...</td>\n",
              "    </tr>\n",
              "    <tr>\n",
              "      <th>...</th>\n",
              "      <td>...</td>\n",
              "      <td>...</td>\n",
              "      <td>...</td>\n",
              "    </tr>\n",
              "    <tr>\n",
              "      <th>957</th>\n",
              "      <td>23</td>\n",
              "      <td>Computer Skills: â¢ Proficient in MS office (...</td>\n",
              "      <td>Computer Skills Proficient in MS office Word B...</td>\n",
              "    </tr>\n",
              "    <tr>\n",
              "      <th>958</th>\n",
              "      <td>23</td>\n",
              "      <td>â Willingness to accept the challenges. â ...</td>\n",
              "      <td>Willingness to a ept the challenges Positive ...</td>\n",
              "    </tr>\n",
              "    <tr>\n",
              "      <th>959</th>\n",
              "      <td>23</td>\n",
              "      <td>PERSONAL SKILLS â¢ Quick learner, â¢ Eagerne...</td>\n",
              "      <td>PERSONAL SKILLS Quick learner Eagerness to lea...</td>\n",
              "    </tr>\n",
              "    <tr>\n",
              "      <th>960</th>\n",
              "      <td>23</td>\n",
              "      <td>COMPUTER SKILLS &amp; SOFTWARE KNOWLEDGE MS-Power ...</td>\n",
              "      <td>COMPUTER SKILLS SOFTWARE KNOWLEDGE MS Power Po...</td>\n",
              "    </tr>\n",
              "    <tr>\n",
              "      <th>961</th>\n",
              "      <td>23</td>\n",
              "      <td>Skill Set OS Windows XP/7/8/8.1/10 Database MY...</td>\n",
              "      <td>Skill Set OS Windows XP      Database MYSQL sq...</td>\n",
              "    </tr>\n",
              "  </tbody>\n",
              "</table>\n",
              "<p>962 rows × 3 columns</p>\n",
              "</div>\n",
              "      <button class=\"colab-df-convert\" onclick=\"convertToInteractive('df-2959c67c-5001-41c0-8eda-6581ecf345ce')\"\n",
              "              title=\"Convert this dataframe to an interactive table.\"\n",
              "              style=\"display:none;\">\n",
              "        \n",
              "  <svg xmlns=\"http://www.w3.org/2000/svg\" height=\"24px\"viewBox=\"0 0 24 24\"\n",
              "       width=\"24px\">\n",
              "    <path d=\"M0 0h24v24H0V0z\" fill=\"none\"/>\n",
              "    <path d=\"M18.56 5.44l.94 2.06.94-2.06 2.06-.94-2.06-.94-.94-2.06-.94 2.06-2.06.94zm-11 1L8.5 8.5l.94-2.06 2.06-.94-2.06-.94L8.5 2.5l-.94 2.06-2.06.94zm10 10l.94 2.06.94-2.06 2.06-.94-2.06-.94-.94-2.06-.94 2.06-2.06.94z\"/><path d=\"M17.41 7.96l-1.37-1.37c-.4-.4-.92-.59-1.43-.59-.52 0-1.04.2-1.43.59L10.3 9.45l-7.72 7.72c-.78.78-.78 2.05 0 2.83L4 21.41c.39.39.9.59 1.41.59.51 0 1.02-.2 1.41-.59l7.78-7.78 2.81-2.81c.8-.78.8-2.07 0-2.86zM5.41 20L4 18.59l7.72-7.72 1.47 1.35L5.41 20z\"/>\n",
              "  </svg>\n",
              "      </button>\n",
              "      \n",
              "  <style>\n",
              "    .colab-df-container {\n",
              "      display:flex;\n",
              "      flex-wrap:wrap;\n",
              "      gap: 12px;\n",
              "    }\n",
              "\n",
              "    .colab-df-convert {\n",
              "      background-color: #E8F0FE;\n",
              "      border: none;\n",
              "      border-radius: 50%;\n",
              "      cursor: pointer;\n",
              "      display: none;\n",
              "      fill: #1967D2;\n",
              "      height: 32px;\n",
              "      padding: 0 0 0 0;\n",
              "      width: 32px;\n",
              "    }\n",
              "\n",
              "    .colab-df-convert:hover {\n",
              "      background-color: #E2EBFA;\n",
              "      box-shadow: 0px 1px 2px rgba(60, 64, 67, 0.3), 0px 1px 3px 1px rgba(60, 64, 67, 0.15);\n",
              "      fill: #174EA6;\n",
              "    }\n",
              "\n",
              "    [theme=dark] .colab-df-convert {\n",
              "      background-color: #3B4455;\n",
              "      fill: #D2E3FC;\n",
              "    }\n",
              "\n",
              "    [theme=dark] .colab-df-convert:hover {\n",
              "      background-color: #434B5C;\n",
              "      box-shadow: 0px 1px 3px 1px rgba(0, 0, 0, 0.15);\n",
              "      filter: drop-shadow(0px 1px 2px rgba(0, 0, 0, 0.3));\n",
              "      fill: #FFFFFF;\n",
              "    }\n",
              "  </style>\n",
              "\n",
              "      <script>\n",
              "        const buttonEl =\n",
              "          document.querySelector('#df-2959c67c-5001-41c0-8eda-6581ecf345ce button.colab-df-convert');\n",
              "        buttonEl.style.display =\n",
              "          google.colab.kernel.accessAllowed ? 'block' : 'none';\n",
              "\n",
              "        async function convertToInteractive(key) {\n",
              "          const element = document.querySelector('#df-2959c67c-5001-41c0-8eda-6581ecf345ce');\n",
              "          const dataTable =\n",
              "            await google.colab.kernel.invokeFunction('convertToInteractive',\n",
              "                                                     [key], {});\n",
              "          if (!dataTable) return;\n",
              "\n",
              "          const docLinkHtml = 'Like what you see? Visit the ' +\n",
              "            '<a target=\"_blank\" href=https://colab.research.google.com/notebooks/data_table.ipynb>data table notebook</a>'\n",
              "            + ' to learn more about interactive tables.';\n",
              "          element.innerHTML = '';\n",
              "          dataTable['output_type'] = 'display_data';\n",
              "          await google.colab.output.renderOutput(dataTable, element);\n",
              "          const docLink = document.createElement('div');\n",
              "          docLink.innerHTML = docLinkHtml;\n",
              "          element.appendChild(docLink);\n",
              "        }\n",
              "      </script>\n",
              "    </div>\n",
              "  </div>\n",
              "  "
            ]
          },
          "metadata": {},
          "execution_count": 17
        }
      ],
      "source": [
        "resumeDataSet"
      ]
    },
    {
      "cell_type": "markdown",
      "metadata": {
        "id": "3fyxLRrdhga6"
      },
      "source": [
        "Vectorization"
      ]
    },
    {
      "cell_type": "code",
      "execution_count": 18,
      "metadata": {
        "colab": {
          "base_uri": "https://localhost:8080/"
        },
        "id": "qOs0Lt2k6348",
        "outputId": "0cbbc5d4-e95f-4b88-f28e-0f3bf193dfeb"
      },
      "outputs": [
        {
          "output_type": "stream",
          "name": "stdout",
          "text": [
            "  (0, 1993)\t0.025902596172954907\n",
            "  (0, 1976)\t0.029698390639205402\n",
            "  (0, 1974)\t0.0979115856208258\n",
            "  (0, 1940)\t0.061003156595213964\n",
            "  (0, 1925)\t0.06773524436270364\n",
            "  (0, 1922)\t0.028646798221175926\n",
            "  (0, 1911)\t0.027552571454683226\n",
            "  (0, 1909)\t0.07350601029682999\n",
            "  (0, 1908)\t0.035093253040129495\n",
            "  (0, 1904)\t0.0488535759108652\n",
            "  (0, 1883)\t0.040075372713306315\n",
            "  (0, 1882)\t0.043339022946890786\n",
            "  (0, 1840)\t0.180742139094626\n",
            "  (0, 1839)\t0.0719741036697864\n",
            "  (0, 1838)\t0.10283884656799709\n",
            "  (0, 1830)\t0.05477686693731359\n",
            "  (0, 1818)\t0.12282555510821712\n",
            "  (0, 1812)\t0.05933424657034643\n",
            "  (0, 1801)\t0.045681616946213\n",
            "  (0, 1800)\t0.07011716048350393\n",
            "  (0, 1798)\t0.05000020923632921\n",
            "  (0, 1794)\t0.02196378453485329\n",
            "  (0, 1772)\t0.12896826695381727\n",
            "  (0, 1770)\t0.04886312203884404\n",
            "  (0, 1759)\t0.07801066295088976\n",
            "  :\t:\n",
            "  (961, 573)\t0.09779510719526015\n",
            "  (961, 569)\t0.0654965285729677\n",
            "  (961, 549)\t0.02928375440716819\n",
            "  (961, 535)\t0.18683442707122955\n",
            "  (961, 484)\t0.08611734408818683\n",
            "  (961, 476)\t0.05344709461229543\n",
            "  (961, 466)\t0.025467826954456544\n",
            "  (961, 419)\t0.12494610581463417\n",
            "  (961, 401)\t0.12188641515754293\n",
            "  (961, 373)\t0.0669372524954269\n",
            "  (961, 371)\t0.08640511920605633\n",
            "  (961, 314)\t0.025467826954456544\n",
            "  (961, 296)\t0.08231964078983425\n",
            "  (961, 272)\t0.10858654309001707\n",
            "  (961, 229)\t0.12536110854696075\n",
            "  (961, 193)\t0.08190690156329121\n",
            "  (961, 192)\t0.10348573685051378\n",
            "  (961, 143)\t0.12716302268265636\n",
            "  (961, 124)\t0.07086313533417934\n",
            "  (961, 109)\t0.09884240299201823\n",
            "  (961, 108)\t0.18029547987456182\n",
            "  (961, 73)\t0.10738949351617509\n",
            "  (961, 64)\t0.1046435647264394\n",
            "  (961, 61)\t0.22086390758629953\n",
            "  (961, 60)\t0.07215292115793513\n"
          ]
        }
      ],
      "source": [
        "from sklearn.model_selection import train_test_split\n",
        "from sklearn.feature_extraction.text import TfidfVectorizer\n",
        "from scipy.sparse import hstack\n",
        "\n",
        "\n",
        "text=resumeDataSet['cleaned_resume'].values\n",
        "terget=resumeDataSet['Category'].values\n",
        "vect=TfidfVectorizer(\n",
        "     sublinear_tf=True,\n",
        "    stop_words='english',\n",
        "        max_features=2000)\n",
        "vect.fit(text)\n",
        "Word_feature=vect.transform(text)\n",
        "print(Word_feature)\n"
      ]
    },
    {
      "cell_type": "code",
      "execution_count": 19,
      "metadata": {
        "colab": {
          "base_uri": "https://localhost:8080/"
        },
        "id": "rqyAQMH0V8GT",
        "outputId": "7f76e15a-50c8-42eb-90d7-7be66db80868"
      },
      "outputs": [
        {
          "output_type": "stream",
          "name": "stdout",
          "text": [
            "(769, 2000)\n",
            "(193, 2000)\n"
          ]
        }
      ],
      "source": [
        "x_train, x_test, y_train, y_test=train_test_split(Word_feature, terget, random_state=0, test_size=0.2)\n",
        "print(x_train.shape)\n",
        "print(x_test.shape)"
      ]
    },
    {
      "cell_type": "code",
      "execution_count": 20,
      "metadata": {
        "colab": {
          "base_uri": "https://localhost:8080/"
        },
        "id": "BGj_oRhm56Pg",
        "outputId": "e624da70-51a8-4be0-8dfb-c269b492485d"
      },
      "outputs": [
        {
          "output_type": "execute_result",
          "data": {
            "text/plain": [
              "OneVsRestClassifier(estimator=KNeighborsClassifier())"
            ]
          },
          "metadata": {},
          "execution_count": 20
        }
      ],
      "source": [
        "import sklearn\n",
        "from sklearn.multiclass import OneVsRestClassifier\n",
        "from sklearn.neighbors import KNeighborsClassifier\n",
        "\n",
        "model=OneVsRestClassifier(KNeighborsClassifier())\n",
        "model.fit(x_train, y_train)"
      ]
    },
    {
      "cell_type": "code",
      "execution_count": 21,
      "metadata": {
        "id": "2dOJKRj9unIF"
      },
      "outputs": [],
      "source": [
        "prediction=model.predict(x_test)"
      ]
    },
    {
      "cell_type": "code",
      "execution_count": 22,
      "metadata": {
        "colab": {
          "base_uri": "https://localhost:8080/"
        },
        "id": "PzJQqYWhuuYx",
        "outputId": "c24b278c-15a5-4449-8711-8df584a31a65"
      },
      "outputs": [
        {
          "output_type": "stream",
          "name": "stdout",
          "text": [
            "training Score: 0.99\n",
            "test Score: 0.98\n"
          ]
        }
      ],
      "source": [
        "print(\"training Score: {:.2f}\".format(model.score(x_train, y_train)))\n",
        "print(\"test Score: {:.2f}\".format(model.score(x_test, y_test)))"
      ]
    },
    {
      "cell_type": "code",
      "execution_count": 23,
      "metadata": {
        "colab": {
          "base_uri": "https://localhost:8080/"
        },
        "id": "SBNwmF4Juzfr",
        "outputId": "a949a7c4-7934-44e5-c892-81a4722cd693"
      },
      "outputs": [
        {
          "output_type": "stream",
          "name": "stdout",
          "text": [
            "model report: OneVsRestClassifier(estimator=KNeighborsClassifier()): \n",
            "               precision    recall  f1-score   support\n",
            "\n",
            "           0       1.00      1.00      1.00         3\n",
            "           1       1.00      1.00      1.00         3\n",
            "           2       1.00      0.80      0.89         5\n",
            "           3       1.00      1.00      1.00         9\n",
            "           4       1.00      0.83      0.91         6\n",
            "           5       1.00      1.00      1.00         5\n",
            "           6       1.00      1.00      1.00         9\n",
            "           7       1.00      1.00      1.00         7\n",
            "           8       1.00      0.91      0.95        11\n",
            "           9       0.90      1.00      0.95         9\n",
            "          10       1.00      1.00      1.00         8\n",
            "          11       0.90      1.00      0.95         9\n",
            "          12       1.00      1.00      1.00         5\n",
            "          13       1.00      1.00      1.00         9\n",
            "          14       1.00      1.00      1.00         7\n",
            "          15       1.00      1.00      1.00        19\n",
            "          16       1.00      1.00      1.00         3\n",
            "          17       1.00      1.00      1.00         4\n",
            "          18       1.00      1.00      1.00         5\n",
            "          19       1.00      1.00      1.00         6\n",
            "          20       1.00      1.00      1.00        11\n",
            "          21       1.00      1.00      1.00         4\n",
            "          22       1.00      1.00      1.00        13\n",
            "          23       1.00      1.00      1.00        15\n",
            "          24       0.89      1.00      0.94         8\n",
            "\n",
            "    accuracy                           0.98       193\n",
            "   macro avg       0.99      0.98      0.98       193\n",
            "weighted avg       0.99      0.98      0.98       193\n",
            "\n",
            "\n"
          ]
        }
      ],
      "source": [
        "from sklearn import metrics\n",
        "print(\"model report: %s: \\n %s\\n\" % (model, metrics.classification_report(y_test, prediction)))"
      ]
    },
    {
      "cell_type": "code",
      "execution_count": 24,
      "metadata": {
        "id": "74McOGLLVaCb"
      },
      "outputs": [],
      "source": [
        "import pickle\n",
        "pickle.dump(vect,open(\"count-Vectorizer.pkl\",\"wb\"))\n",
        "pickle.dump(model,open(\"Movie_Review_classification.pkl\",\"wb\"))"
      ]
    },
    {
      "cell_type": "code",
      "execution_count": 24,
      "metadata": {
        "id": "UyIbhs9LPKLz"
      },
      "outputs": [],
      "source": []
    },
    {
      "cell_type": "code",
      "execution_count": 25,
      "metadata": {
        "id": "p8CNHQnhXx_t"
      },
      "outputs": [],
      "source": [
        "save_vect=pickle.load(open(\"count-Vectorizer.pkl\",\"rb\"))\n",
        "model=pickle.load(open(\"Movie_Review_classification.pkl\",\"rb\"))"
      ]
    },
    {
      "cell_type": "code",
      "execution_count": 26,
      "metadata": {
        "colab": {
          "base_uri": "https://localhost:8080/"
        },
        "id": "rpj0NqjbYQyL",
        "outputId": "9cdfdfe7-cc20-4929-910a-26c80a53c346"
      },
      "outputs": [
        {
          "output_type": "execute_result",
          "data": {
            "text/plain": [
              "15    84\n",
              "23    70\n",
              "8     55\n",
              "20    48\n",
              "24    45\n",
              "12    44\n",
              "13    42\n",
              "3     40\n",
              "10    40\n",
              "18    40\n",
              "6     40\n",
              "22    40\n",
              "16    40\n",
              "1     36\n",
              "7     33\n",
              "11    30\n",
              "14    30\n",
              "19    30\n",
              "4     28\n",
              "9     28\n",
              "2     26\n",
              "17    25\n",
              "21    24\n",
              "5     24\n",
              "0     20\n",
              "Name: Category, dtype: int64"
            ]
          },
          "metadata": {},
          "execution_count": 26
        }
      ],
      "source": [
        "resumeDataSet['Category'].value_counts()"
      ]
    },
    {
      "cell_type": "code",
      "execution_count": 27,
      "metadata": {
        "colab": {
          "base_uri": "https://localhost:8080/"
        },
        "id": "3kDvXKHigS4f",
        "outputId": "ba03a590-1d83-4375-f606-5446522d6729"
      },
      "outputs": [
        {
          "output_type": "execute_result",
          "data": {
            "text/plain": [
              "0       6\n",
              "1       6\n",
              "2       6\n",
              "3       6\n",
              "4       6\n",
              "       ..\n",
              "957    23\n",
              "958    23\n",
              "959    23\n",
              "960    23\n",
              "961    23\n",
              "Name: Category, Length: 962, dtype: int64"
            ]
          },
          "metadata": {},
          "execution_count": 27
        }
      ],
      "source": [
        "resumeDataSet['Category']"
      ]
    },
    {
      "cell_type": "code",
      "execution_count": 28,
      "metadata": {
        "id": "b_lyWlWMY5nX"
      },
      "outputs": [],
      "source": [
        "def test_model(de):\n",
        "    sen=save_vect.transform([de]).toarray()\n",
        "    res=model.predict(sen)[0]\n",
        "    if res==15:\n",
        "        return \"Java Developer\"\n",
        "    if res==23:\n",
        "        return \"Testing\"\n",
        "    if res==8:\n",
        "        return \"DevOps Engineer\"\n",
        "    if res==24:\n",
        "        return \"Web Designing\"\n",
        "    if res==20:\n",
        "        return \"Python Developer\"\n",
        "    if res==12:\n",
        "        return \"HR\"\n",
        "    if res==13:\n",
        "        return \"Hadoop\"\n",
        "    if res==3:\n",
        "        return \"Blockchain \"\n",
        "    if res==10:\n",
        "        return \"ETL Developer\"\n",
        "    if res==18:\n",
        "        return \"Operations Manager\"\n",
        "    if res==6:\n",
        "        return \"Data Science\"\n",
        "    if res==22:\n",
        "        return \"Sales\"\n",
        "    if res==16:\n",
        "        return \"Mechanical Engineer\"\n",
        "    if res==1:\n",
        "        return \"Arts\"\n",
        "    if res==7:\n",
        "        return \"Database\"\n",
        "    if res==11:\n",
        "        return \"Electrical Engineering\"\n",
        "    if res==14:\n",
        "        return \"Health and Fitness\"\n",
        "    if res==19:\n",
        "        return \"PMO\"\n",
        "    if res==4:\n",
        "        return \"Business Analyst\"\n",
        "    if res==9:\n",
        "        return \"DotNet Developer\"\n",
        "    if res==2:\n",
        "        return \"Automation Testing\"\n",
        "    if res==17:\n",
        "        return \"Network Security Engineer\"  \n",
        "    if res==21:\n",
        "        return \"SAP Developer\"                                            \n",
        "    if res==5:\n",
        "        return \"Civil Engineer\"\n",
        "    if res==0:\n",
        "        return \"Advocate\"\n",
        "    else:\n",
        "        return \"Sorry,You have no jobs\"\n"
      ]
    },
    {
      "cell_type": "code",
      "execution_count": 29,
      "metadata": {
        "colab": {
          "base_uri": "https://localhost:8080/"
        },
        "id": "yejw3hJ1aktQ",
        "outputId": "9db9cfd9-fecb-4e16-f919-c7a4002fc3d8"
      },
      "outputs": [
        {
          "output_type": "stream",
          "name": "stdout",
          "text": [
            "Civil Engineer\n"
          ]
        }
      ],
      "source": [
        "r=test_model(resume0)\n",
        "print(r)"
      ]
    }
  ],
  "metadata": {
    "colab": {
      "collapsed_sections": [],
      "provenance": []
    },
    "kernelspec": {
      "display_name": "Python 3",
      "name": "python3"
    },
    "language_info": {
      "name": "python"
    }
  },
  "nbformat": 4,
  "nbformat_minor": 0
}